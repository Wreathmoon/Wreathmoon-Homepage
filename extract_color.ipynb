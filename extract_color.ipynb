{
 "cells": [
  {
   "cell_type": "code",
   "execution_count": 1,
   "metadata": {},
   "outputs": [
    {
     "name": "stdout",
     "output_type": "stream",
     "text": [
      "C:\\Users\\office01\\AppData\\Local\\Microsoft\\WindowsApps\\PythonSoftwareFoundation.Python.3.11_qbz5n2kfra8p0\\python.exe\n"
     ]
    }
   ],
   "source": [
    "import sys\n",
    "print(sys.executable)"
   ]
  },
  {
   "cell_type": "code",
   "execution_count": 5,
   "metadata": {},
   "outputs": [
    {
     "name": "stdout",
     "output_type": "stream",
     "text": [
      "Most common colors:\n",
      "RGB: (255, 255, 255), Hex: #ffffff, Count: 61429\n",
      "RGB: (0, 0, 0), Hex: #000000, Count: 4358\n",
      "RGB: (230, 0, 39), Hex: #e60027, Count: 1627\n",
      "RGB: (230, 0, 40), Hex: #e60028, Count: 1130\n",
      "RGB: (254, 255, 255), Hex: #feffff, Count: 712\n"
     ]
    }
   ],
   "source": [
    "from PIL import Image\n",
    "from collections import Counter\n",
    "\n",
    "def extract_colors(image_path, num_colors=5):\n",
    "    # 打开图像\n",
    "    img = Image.open(image_path)\n",
    "    \n",
    "    # 确保图像模式为RGB\n",
    "    if img.mode != 'RGB':\n",
    "        img = img.convert('RGB')\n",
    "    \n",
    "    # 获取所有像素\n",
    "    pixels = list(img.getdata())\n",
    "    \n",
    "    # 使用Counter统计颜色\n",
    "    color_counts = Counter(pixels)\n",
    "    \n",
    "    # 获取出现最多的颜色\n",
    "    most_common_colors = color_counts.most_common(num_colors)\n",
    "    \n",
    "    return most_common_colors\n",
    "\n",
    "def rgb_to_hex(rgb):\n",
    "    return '#{:02x}{:02x}{:02x}'.format(rgb[0], rgb[1], rgb[2])\n",
    "\n",
    "# 使用示例\n",
    "image_path = 'D:\\Documents\\文档\\报告模板\\Logo.png'  # 替换为您的图片路径\n",
    "top_colors = extract_colors(image_path)\n",
    "\n",
    "print(\"Most common colors:\")\n",
    "for color, count in top_colors:\n",
    "    print(f\"RGB: {color}, Hex: {rgb_to_hex(color)}, Count: {count}\")"
   ]
  },
  {
   "cell_type": "code",
   "execution_count": 8,
   "metadata": {},
   "outputs": [
    {
     "data": {
      "text/plain": [
       "(245, 153, 168)"
      ]
     },
     "execution_count": 8,
     "metadata": {},
     "output_type": "execute_result"
    }
   ],
   "source": [
    "def blend_with_white(r, g, b, factor=0.6):\n",
    "    return (\n",
    "        int(r + (255 - r) * factor),\n",
    "        int(g + (255 - g) * factor),\n",
    "        int(b + (255 - b) * factor)\n",
    "    )\n",
    "blend_with_white(230, 0, 39)"
   ]
  }
 ],
 "metadata": {
  "kernelspec": {
   "display_name": "Python 3",
   "language": "python",
   "name": "python3"
  },
  "language_info": {
   "codemirror_mode": {
    "name": "ipython",
    "version": 3
   },
   "file_extension": ".py",
   "mimetype": "text/x-python",
   "name": "python",
   "nbconvert_exporter": "python",
   "pygments_lexer": "ipython3",
   "version": "3.11.9"
  }
 },
 "nbformat": 4,
 "nbformat_minor": 2
}
